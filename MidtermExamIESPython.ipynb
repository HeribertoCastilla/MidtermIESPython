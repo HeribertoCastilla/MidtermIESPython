{
 "cells": [
  {
   "cell_type": "code",
   "execution_count": 27,
   "metadata": {},
   "outputs": [],
   "source": [
    "import requests\n",
    "import pandas as pd\n",
    "from bs4 import BeautifulSoup\n",
    "import time\n",
    "r_post = requests.post(\n",
    "    \"https://ies-midterm.soulution.rocks/login\",\n",
    "    \n",
    "    json={'cuni':'36586021' }\n",
    ")"
   ]
  },
  {
   "cell_type": "code",
   "execution_count": 13,
   "metadata": {
    "scrolled": true
   },
   "outputs": [
    {
     "name": "stdout",
     "output_type": "stream",
     "text": [
      "{'data': {'personal_code': 'e6fcf4c8', 'dataset_ids': ['288b147f95', '3bd4cabfaa', '8f8c9919a6', '779ce2818b', '7be200ce5b']}, 'message': 'Hello, Castilla Hernández Heriberto, Bc., BA! Good luck with the midterm. GET your data set from /data/file_id endpoint; use the codes you received in the data response as the file_id parameter! Print the personal code in your notebook.'}\n"
     ]
    }
   ],
   "source": [
    "json_data = r.json()\n",
    "print(json_data)"
   ]
  },
  {
   "cell_type": "code",
   "execution_count": 16,
   "metadata": {},
   "outputs": [
    {
     "name": "stdout",
     "output_type": "stream",
     "text": [
      "e6fcf4c8\n"
     ]
    }
   ],
   "source": [
    "personal_code = json_data['data']['personal_code']\n",
    "print(personal_code)\n",
    "                            \n",
    "                            "
   ]
  },
  {
   "cell_type": "code",
   "execution_count": 17,
   "metadata": {},
   "outputs": [
    {
     "name": "stdout",
     "output_type": "stream",
     "text": [
      "['288b147f95', '3bd4cabfaa', '8f8c9919a6', '779ce2818b', '7be200ce5b']\n"
     ]
    }
   ],
   "source": [
    "dataset_ids = json_data['data']['dataset_ids']\n",
    "print(dataset_ids)"
   ]
  },
  {
   "cell_type": "code",
   "execution_count": 53,
   "metadata": {},
   "outputs": [
    {
     "name": "stdout",
     "output_type": "stream",
     "text": [
      "           Date                Open                High                 Low  \\\n",
      "0    2019-01-02   337.8999938964844   337.8999938964844               329.0   \n",
      "1    2019-01-03   328.3500061035156  347.45001220703125  328.29998779296875   \n",
      "2    2019-01-04   342.3999938964844               347.0               341.0   \n",
      "3    2019-01-07               350.0   353.8999938964844               345.0   \n",
      "4    2019-01-08  348.79998779296875   348.8999938964844  340.04998779296875   \n",
      "..          ...                 ...                 ...                 ...   \n",
      "468  2020-11-16  182.85000610351562  182.89999389648438   180.0500030517578   \n",
      "469  2020-11-17  182.89999389648438              187.25               182.0   \n",
      "470  2020-11-19               187.0               193.5               187.0   \n",
      "471  2020-11-20               190.0  193.89999389648438   187.5500030517578   \n",
      "472                             NaN                 NaN                 NaN   \n",
      "\n",
      "                  Close           Adj.Close Volume  \n",
      "0                 329.0               329.0    501  \n",
      "1                 345.0               345.0  17057  \n",
      "2    346.95001220703125  346.95001220703125  14725  \n",
      "3    345.20001220703125  345.20001220703125   5794  \n",
      "4    340.79998779296875  340.79998779296875    653  \n",
      "..                  ...                 ...    ...  \n",
      "468   180.0500030517578   180.0500030517578    314  \n",
      "469  187.10000610351562  187.10000610351562   5393  \n",
      "470   191.9499969482422   191.9499969482422   6114  \n",
      "471               190.0               190.0   7498  \n",
      "472                 NaN                 NaN    NaN  \n",
      "\n",
      "[473 rows x 7 columns]\n"
     ]
    }
   ],
   "source": [
    "url = \"https://ies-midterm.soulution.rocks/data/\"\n",
    "datasets = []\n",
    "companies = []\n",
    "for dataset_id in dataset_ids:\n",
    "    url_new = url + dataset_id\n",
    "    while True:\n",
    "        time.sleep(.5)\n",
    "        r_get = requests.get(url_new)\n",
    "        if r_get.status_code == 200:\n",
    "            break \n",
    "    datasets.append(r_get)\n",
    "    \n",
    "    r_get_json = r_get.json()\n",
    "    company_name = r_get_json['data']['company']\n",
    "    companies.append(company_name)\n",
    "    \n",
    "dataset1_json = datasets[0].json()\n",
    "\n",
    "print(pd.DataFrame(dataset1_json['data']['data']))\n",
    "\n",
    "DF_company1 = pd.DataFrame(dataset1_json['data']['data'])\n",
    "\n",
    "\n",
    "\n",
    "\n",
    "\n",
    "\n"
   ]
  },
  {
   "cell_type": "code",
   "execution_count": null,
   "metadata": {},
   "outputs": [],
   "source": []
  }
 ],
 "metadata": {
  "kernelspec": {
   "display_name": "Python 3",
   "language": "python",
   "name": "python3"
  },
  "language_info": {
   "codemirror_mode": {
    "name": "ipython",
    "version": 3
   },
   "file_extension": ".py",
   "mimetype": "text/x-python",
   "name": "python",
   "nbconvert_exporter": "python",
   "pygments_lexer": "ipython3",
   "version": "3.8.5"
  }
 },
 "nbformat": 4,
 "nbformat_minor": 4
}
